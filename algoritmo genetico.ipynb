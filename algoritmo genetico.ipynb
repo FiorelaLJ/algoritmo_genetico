{
 "cells": [
  {
   "cell_type": "code",
   "execution_count": 9,
   "metadata": {},
   "outputs": [],
   "source": [
    "import random\n",
    "import math"
   ]
  },
  {
   "cell_type": "code",
   "execution_count": 10,
   "metadata": {},
   "outputs": [],
   "source": [
    "def funct(x):\n",
    "    f=x+abs(math.sin(x))\n",
    "    return f"
   ]
  },
  {
   "cell_type": "code",
   "execution_count": 16,
   "metadata": {},
   "outputs": [],
   "source": [
    "largo=9\n",
    "num = 10 #La cantidad de individuos que habra en la poblacion\n",
    "pressure = 6 #Cuantos individuos se seleccionan para reproduccion. Necesariamente mayor que 2\n",
    "prob_cruce = 0.7 #La probabilidad de cruce\n",
    "prob_mutacion = 0.001 #La probabilidad de que un individuo mute"
   ]
  },
  {
   "cell_type": "code",
   "execution_count": 6,
   "metadata": {},
   "outputs": [],
   "source": [
    "def individuo(): #crea un individuo\n",
    "    a= [random.choice((1,0)) for i in range(largo)]\n",
    "    c = int(str(a),2)\n",
    "    if(c<314):\n",
    "        return a\n",
    "    else:\n",
    "        individuo()"
   ]
  },
  {
   "cell_type": "code",
   "execution_count": 13,
   "metadata": {},
   "outputs": [],
   "source": [
    "def crearPoblacion():\n",
    "    return [individuo for i in range(num)]"
   ]
  },
  {
   "cell_type": "code",
   "execution_count": 14,
   "metadata": {},
   "outputs": [],
   "source": [
    "def fitness(individuo):\n",
    "    valoracion=funct(individuo)\n",
    "    return valoracion"
   ]
  },
  {
   "cell_type": "code",
   "execution_count": 15,
   "metadata": {},
   "outputs": [],
   "source": [
    "def fun_cruzar(individuo1,individuo2,prob_cruce):\n",
    "    if prob_cruce<random.uniform(0,1):       \n",
    "        p=random.randint(0,8)\n",
    "        l1=len(individuo1)\n",
    "        l2=len(individuo2)\n",
    "        cruce1=individuo1[0:p]+individuo2[p:l2]\n",
    "        cruce1=individuo2[0:p]+individuo1[p:l1]\n",
    "    else:\n",
    "        return [individuo1,individuo2]\n",
    "    return [cruce1,cruce2]"
   ]
  },
  {
   "cell_type": "code",
   "execution_count": null,
   "metadata": {},
   "outputs": [],
   "source": [
    "def fun_mutar(individuo,prob_mutacion):\n",
    "    l = len(individuo)\n",
    "    p=random.randint(0,l-1)\n",
    "    if prob_mutacion<random.uniform(0,1):\n",
    "        individuo[p] = (individuo[p]+1)\n",
    "    return individuo"
   ]
  },
  {
   "cell_type": "code",
   "execution_count": 8,
   "metadata": {},
   "outputs": [],
   "source": [
    "def seleccion_reproduccion(poblacion):\n",
    "    puntuados = [(fitness(i),i)for i in poblacion]\n",
    "    puntuados = [i[1] for i in sorted(puntuados)]\n",
    "    poblacion = puntuados\n",
    "    \n",
    "    seleccionados = puntuados[(len(puntuados)-pressure):]\n",
    "    \n",
    "    for i in range(len(poblacion)-pressure):\n",
    "        padre1=random.sample(seleccionados)\n",
    "        padre2=random.sample(seleccionados)\n",
    "        fun_cruzar(padre1,padre2)\n",
    "    return poblacion"
   ]
  },
  {
   "cell_type": "code",
   "execution_count": null,
   "metadata": {},
   "outputs": [],
   "source": []
  }
 ],
 "metadata": {
  "kernelspec": {
   "display_name": "Python 3",
   "language": "python",
   "name": "python3"
  },
  "language_info": {
   "codemirror_mode": {
    "name": "ipython",
    "version": 3
   },
   "file_extension": ".py",
   "mimetype": "text/x-python",
   "name": "python",
   "nbconvert_exporter": "python",
   "pygments_lexer": "ipython3",
   "version": "3.7.1"
  }
 },
 "nbformat": 4,
 "nbformat_minor": 2
}
